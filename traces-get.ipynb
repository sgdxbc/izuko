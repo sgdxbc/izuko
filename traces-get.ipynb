{
 "cells": [
  {
   "cell_type": "code",
   "execution_count": 1,
   "metadata": {},
   "outputs": [],
   "source": [
    "import pandas as pd\n",
    "from glob import glob\n",
    "import seaborn as sns"
   ]
  },
  {
   "cell_type": "code",
   "execution_count": 2,
   "metadata": {},
   "outputs": [],
   "source": [
    "def span_attr(span, key):\n",
    "    data = pd.DataFrame(span.at['attributes'])\n",
    "    attr = data[data['key'] == key]\n",
    "    if not attr.empty:\n",
    "        return attr['value'].values[0]['stringValue']"
   ]
  },
  {
   "cell_type": "code",
   "execution_count": 3,
   "metadata": {},
   "outputs": [],
   "source": [
    "def span_event(span, name):\n",
    "    # print(span)\n",
    "    # print(type(span))\n",
    "    if 'events' not in span:\n",
    "        return\n",
    "    data = pd.DataFrame(span.at['events'])\n",
    "    event = data[data['name'] == name]\n",
    "    if not event.empty:\n",
    "        return event.squeeze()"
   ]
  },
  {
   "cell_type": "code",
   "execution_count": 4,
   "metadata": {},
   "outputs": [],
   "source": [
    "def report_trace(name):\n",
    "    data = pd.read_json(f'{name}.json', orient='record')\n",
    "    span = data[data['name'] == 'CoreAPI.UnixfsAPI.Get']\n",
    "    cid = span_attr(span.squeeze(), 'path').split('/')[-1]\n",
    "    # print('cid', cid)\n",
    "    cmd_span = data[data['name'] == 'corehttp.cmdsHandler']\n",
    "    start_nano = cmd_span['startTimeUnixNano'].values[0]\n",
    "    end_nano = cmd_span['endTimeUnixNano'].values[0]\n",
    "    transfer_start_nano = data[data['name'] == 'Blockservice.Session.GetBlocks']['startTimeUnixNano'].values[0]\n",
    "    first_block_notify = data[data['name'] == 'Bitswap.NotifyNewBlocks']['startTimeUnixNano'].min()\n",
    "\n",
    "    other_data = pd.read_json(f'{name}_other.json', orient='record')\n",
    "    def find_key(span):\n",
    "        return (\n",
    "            span.at['name'] == 'Dual.FindProvidersAsync' \n",
    "            and span_attr(span, 'key') == cid)\n",
    "    find_span = other_data[other_data.apply(find_key, axis=1)]\n",
    "    # find_start_nano = int(span_event(find_span.squeeze(), 'started streaming').at['timeUnixNano'])\n",
    "    if find_span.empty:\n",
    "        print(f'! No FindProviders span in trace of {cid}')\n",
    "        return pd.Series()\n",
    "    if len(find_span) != 1:\n",
    "        print(f'! Multiple FindProviders spans in trace of {cid}')\n",
    "        return pd.Series()\n",
    "    find_start_nano = find_span['startTimeUnixNano'].values[0]\n",
    "    \n",
    "    # print('find delay', (find_start_nano - start_nano) / 10**9)\n",
    "    find_delay = (find_start_nano - start_nano) / 10**9\n",
    "    if (find_end_event := span_event(find_span.squeeze(), 'found provider')) is None:\n",
    "        print(f'! No FindProvider event in trace of {cid}')\n",
    "        return pd.Series()\n",
    "    find_end_nano = int(find_end_event.at['timeUnixNano'])\n",
    "    # print('find', (find_end_nano - find_start_nano) / 10**9)\n",
    "    find = (find_end_nano - find_start_nano) / 10**9\n",
    "    # print('from find to first block arrive', (first_block_notify - find_end_nano) / 10**9)\n",
    "    first_block = (first_block_notify - find_end_nano) / 10**9\n",
    "    # print('transfer', (end_nano - transfer_start_nano) / 10**9)\n",
    "    transfer = (end_nano - transfer_start_nano) / 10**9\n",
    "    # print('total', (end_nano - start_nano) / 10**9)\n",
    "    total = (end_nano - start_nano) / 10**9\n",
    "    return pd.Series({'cid': cid, 'start nano': start_nano, 'find delay': find_delay, 'find': find, 'first block': first_block, 'transfer': transfer, 'total': total})"
   ]
  },
  {
   "cell_type": "code",
   "execution_count": 5,
   "metadata": {},
   "outputs": [
    {
     "name": "stdout",
     "output_type": "stream",
     "text": [
      "! No FindProviders span in trace of QmPEnVzExxYUaLmD4WgpDXEhf5uTLktuUm349Vt3nWiE9c\n",
      "! No FindProvider event in trace of QmayR6VghNWWMA16oGYziKPsXTZ3ArBU2YjdAKENayZfb6\n"
     ]
    },
    {
     "data": {
      "text/html": [
       "<div>\n",
       "<style scoped>\n",
       "    .dataframe tbody tr th:only-of-type {\n",
       "        vertical-align: middle;\n",
       "    }\n",
       "\n",
       "    .dataframe tbody tr th {\n",
       "        vertical-align: top;\n",
       "    }\n",
       "\n",
       "    .dataframe thead th {\n",
       "        text-align: right;\n",
       "    }\n",
       "</style>\n",
       "<table border=\"1\" class=\"dataframe\">\n",
       "  <thead>\n",
       "    <tr style=\"text-align: right;\">\n",
       "      <th></th>\n",
       "      <th>cid</th>\n",
       "      <th>start nano</th>\n",
       "      <th>find delay</th>\n",
       "      <th>find</th>\n",
       "      <th>first block</th>\n",
       "      <th>transfer</th>\n",
       "      <th>total</th>\n",
       "    </tr>\n",
       "  </thead>\n",
       "  <tbody>\n",
       "    <tr>\n",
       "      <th>0</th>\n",
       "      <td>QmXtKLsCqbynTJhC9Y8xzYvnj6Qbb8LF1BN7CGCXRqitRd</td>\n",
       "      <td>1.710382e+18</td>\n",
       "      <td>1.001087</td>\n",
       "      <td>0.322372</td>\n",
       "      <td>0.034934</td>\n",
       "      <td>0.488747</td>\n",
       "      <td>1.860214</td>\n",
       "    </tr>\n",
       "    <tr>\n",
       "      <th>1</th>\n",
       "      <td>QmcAbvnpArGNfCnAGo2cpK3j51K8TkFCAGbeZNbjZB5Ln7</td>\n",
       "      <td>1.710383e+18</td>\n",
       "      <td>1.000845</td>\n",
       "      <td>0.225838</td>\n",
       "      <td>0.036559</td>\n",
       "      <td>0.135545</td>\n",
       "      <td>1.399988</td>\n",
       "    </tr>\n",
       "    <tr>\n",
       "      <th>2</th>\n",
       "      <td>QmdAzEjRSNL8Mxf85YVaoaaSFsgkTKTWKzZPwKmAkmsW1e</td>\n",
       "      <td>1.710381e+18</td>\n",
       "      <td>1.001134</td>\n",
       "      <td>1.004392</td>\n",
       "      <td>0.034789</td>\n",
       "      <td>0.266385</td>\n",
       "      <td>2.308703</td>\n",
       "    </tr>\n",
       "    <tr>\n",
       "      <th>3</th>\n",
       "      <td>QmXVm6pimoLFFyvvwkNs8XdHvwwM7PJ36oR86z1M4jzAGS</td>\n",
       "      <td>1.710381e+18</td>\n",
       "      <td>1.000876</td>\n",
       "      <td>0.011770</td>\n",
       "      <td>0.031782</td>\n",
       "      <td>0.123615</td>\n",
       "      <td>1.168887</td>\n",
       "    </tr>\n",
       "    <tr>\n",
       "      <th>4</th>\n",
       "      <td>QmQrLUZGWfgWEfX7vbqFtidwargBQag9bbJN6ih2nCUKpb</td>\n",
       "      <td>1.710381e+18</td>\n",
       "      <td>1.001267</td>\n",
       "      <td>0.743510</td>\n",
       "      <td>0.029264</td>\n",
       "      <td>0.602486</td>\n",
       "      <td>2.387700</td>\n",
       "    </tr>\n",
       "    <tr>\n",
       "      <th>...</th>\n",
       "      <td>...</td>\n",
       "      <td>...</td>\n",
       "      <td>...</td>\n",
       "      <td>...</td>\n",
       "      <td>...</td>\n",
       "      <td>...</td>\n",
       "      <td>...</td>\n",
       "    </tr>\n",
       "    <tr>\n",
       "      <th>96</th>\n",
       "      <td>QmcE1qiJ7tJXDC2gfokimzLAtopHypVKXy6r3jaZb18dgS</td>\n",
       "      <td>1.710382e+18</td>\n",
       "      <td>1.000814</td>\n",
       "      <td>0.531548</td>\n",
       "      <td>0.030134</td>\n",
       "      <td>0.255164</td>\n",
       "      <td>1.825240</td>\n",
       "    </tr>\n",
       "    <tr>\n",
       "      <th>97</th>\n",
       "      <td>QmZuWtj4iQao3pXEGM5GLecszcfSoVTfokTDqMmpYFoJ48</td>\n",
       "      <td>1.710383e+18</td>\n",
       "      <td>1.001476</td>\n",
       "      <td>0.070127</td>\n",
       "      <td>0.017727</td>\n",
       "      <td>0.121775</td>\n",
       "      <td>1.217595</td>\n",
       "    </tr>\n",
       "    <tr>\n",
       "      <th>98</th>\n",
       "      <td>QmYGXJ85aZmk34CrjHxkpV1kkLBQPTJxF7o1kZHjBoG8KJ</td>\n",
       "      <td>1.710382e+18</td>\n",
       "      <td>1.001615</td>\n",
       "      <td>0.749496</td>\n",
       "      <td>0.032793</td>\n",
       "      <td>0.251988</td>\n",
       "      <td>2.037123</td>\n",
       "    </tr>\n",
       "    <tr>\n",
       "      <th>99</th>\n",
       "      <td>QmSYQ5ZaDxgaLGHA5KY263VThNxyPN6rAnMDFYoyzx5Zgs</td>\n",
       "      <td>1.710382e+18</td>\n",
       "      <td>1.001426</td>\n",
       "      <td>0.567552</td>\n",
       "      <td>0.051085</td>\n",
       "      <td>0.289763</td>\n",
       "      <td>1.910876</td>\n",
       "    </tr>\n",
       "    <tr>\n",
       "      <th>100</th>\n",
       "      <td>QmSQ5eaR3AtMVzNJsKazcvkZiiTx6t7bPoB9U4FbA2D7t2</td>\n",
       "      <td>1.710381e+18</td>\n",
       "      <td>1.002233</td>\n",
       "      <td>0.608541</td>\n",
       "      <td>0.029960</td>\n",
       "      <td>0.228935</td>\n",
       "      <td>1.871505</td>\n",
       "    </tr>\n",
       "  </tbody>\n",
       "</table>\n",
       "<p>101 rows × 7 columns</p>\n",
       "</div>"
      ],
      "text/plain": [
       "                                                cid    start nano  find delay  \\\n",
       "0    QmXtKLsCqbynTJhC9Y8xzYvnj6Qbb8LF1BN7CGCXRqitRd  1.710382e+18    1.001087   \n",
       "1    QmcAbvnpArGNfCnAGo2cpK3j51K8TkFCAGbeZNbjZB5Ln7  1.710383e+18    1.000845   \n",
       "2    QmdAzEjRSNL8Mxf85YVaoaaSFsgkTKTWKzZPwKmAkmsW1e  1.710381e+18    1.001134   \n",
       "3    QmXVm6pimoLFFyvvwkNs8XdHvwwM7PJ36oR86z1M4jzAGS  1.710381e+18    1.000876   \n",
       "4    QmQrLUZGWfgWEfX7vbqFtidwargBQag9bbJN6ih2nCUKpb  1.710381e+18    1.001267   \n",
       "..                                              ...           ...         ...   \n",
       "96   QmcE1qiJ7tJXDC2gfokimzLAtopHypVKXy6r3jaZb18dgS  1.710382e+18    1.000814   \n",
       "97   QmZuWtj4iQao3pXEGM5GLecszcfSoVTfokTDqMmpYFoJ48  1.710383e+18    1.001476   \n",
       "98   QmYGXJ85aZmk34CrjHxkpV1kkLBQPTJxF7o1kZHjBoG8KJ  1.710382e+18    1.001615   \n",
       "99   QmSYQ5ZaDxgaLGHA5KY263VThNxyPN6rAnMDFYoyzx5Zgs  1.710382e+18    1.001426   \n",
       "100  QmSQ5eaR3AtMVzNJsKazcvkZiiTx6t7bPoB9U4FbA2D7t2  1.710381e+18    1.002233   \n",
       "\n",
       "         find  first block  transfer     total  \n",
       "0    0.322372     0.034934  0.488747  1.860214  \n",
       "1    0.225838     0.036559  0.135545  1.399988  \n",
       "2    1.004392     0.034789  0.266385  2.308703  \n",
       "3    0.011770     0.031782  0.123615  1.168887  \n",
       "4    0.743510     0.029264  0.602486  2.387700  \n",
       "..        ...          ...       ...       ...  \n",
       "96   0.531548     0.030134  0.255164  1.825240  \n",
       "97   0.070127     0.017727  0.121775  1.217595  \n",
       "98   0.749496     0.032793  0.251988  2.037123  \n",
       "99   0.567552     0.051085  0.289763  1.910876  \n",
       "100  0.608541     0.029960  0.228935  1.871505  \n",
       "\n",
       "[101 rows x 7 columns]"
      ]
     },
     "execution_count": 5,
     "metadata": {},
     "output_type": "execute_result"
    }
   ],
   "source": [
    "report_data_apse2 = pd.DataFrame([\n",
    "    report_trace(name.split('_')[0])\n",
    "    for name in glob('data.get.apse/traces.apse2/*_other.json')\n",
    "])\n",
    "report_data_apse2"
   ]
  },
  {
   "cell_type": "code",
   "execution_count": 6,
   "metadata": {},
   "outputs": [
    {
     "name": "stdout",
     "output_type": "stream",
     "text": [
      "! No FindProviders span in trace of Qmc8S9vj9x41NuXQnhYotMgcQZurEKgM9hnPxtutMD5ivx\n",
      "! Multiple FindProviders spans in trace of QmcGJVkmgr7v5iArJ6J5bitSHFJ8JZSeaxXTPiJjymLESY\n",
      "! No FindProviders span in trace of QmbxB7mBFeiZPq8YrPhGNvX5mmqZTkTPuRRXMjLdQ1WcqY\n",
      "! No FindProviders span in trace of QmTn94fHRqswXp1DrvsfxctqzSjnvbTu4RsYD17WeS3j2F\n",
      "! No FindProviders span in trace of QmasgiB7n4VRPZpRE9AiGAjQoHrjbLwkqGMsQuyGAjgr7E\n"
     ]
    }
   ],
   "source": [
    "report_data_afs = pd.DataFrame([\n",
    "    report_trace(name.split('_')[0])\n",
    "    for name in glob('data.get.apse/traces.afs/*_other.json')\n",
    "])\n",
    "report_data_sae = pd.DataFrame([\n",
    "    report_trace(name.split('_')[0])\n",
    "    for name in glob('data.get.apse/traces.sae/*_other.json')\n",
    "])\n",
    "report_data_apse = pd.DataFrame([\n",
    "    report_trace(name.split('_')[0])\n",
    "    for name in glob('data.get.apse/traces.apse/*_other.json')\n",
    "])"
   ]
  },
  {
   "cell_type": "code",
   "execution_count": 7,
   "metadata": {},
   "outputs": [
    {
     "data": {
      "text/html": [
       "<div>\n",
       "<style scoped>\n",
       "    .dataframe tbody tr th:only-of-type {\n",
       "        vertical-align: middle;\n",
       "    }\n",
       "\n",
       "    .dataframe tbody tr th {\n",
       "        vertical-align: top;\n",
       "    }\n",
       "\n",
       "    .dataframe thead th {\n",
       "        text-align: right;\n",
       "    }\n",
       "</style>\n",
       "<table border=\"1\" class=\"dataframe\">\n",
       "  <thead>\n",
       "    <tr style=\"text-align: right;\">\n",
       "      <th></th>\n",
       "      <th>start nano</th>\n",
       "      <th>find delay</th>\n",
       "      <th>find</th>\n",
       "      <th>first block</th>\n",
       "      <th>transfer</th>\n",
       "      <th>total</th>\n",
       "    </tr>\n",
       "  </thead>\n",
       "  <tbody>\n",
       "    <tr>\n",
       "      <th>count</th>\n",
       "      <td>9.900000e+01</td>\n",
       "      <td>99.000000</td>\n",
       "      <td>99.000000</td>\n",
       "      <td>99.000000</td>\n",
       "      <td>99.000000</td>\n",
       "      <td>99.000000</td>\n",
       "    </tr>\n",
       "    <tr>\n",
       "      <th>mean</th>\n",
       "      <td>1.710328e+18</td>\n",
       "      <td>1.001379</td>\n",
       "      <td>0.745072</td>\n",
       "      <td>1.036653</td>\n",
       "      <td>2.547233</td>\n",
       "      <td>5.333450</td>\n",
       "    </tr>\n",
       "    <tr>\n",
       "      <th>std</th>\n",
       "      <td>1.465637e+12</td>\n",
       "      <td>0.000465</td>\n",
       "      <td>0.279354</td>\n",
       "      <td>0.129906</td>\n",
       "      <td>0.576125</td>\n",
       "      <td>0.657165</td>\n",
       "    </tr>\n",
       "    <tr>\n",
       "      <th>min</th>\n",
       "      <td>1.710325e+18</td>\n",
       "      <td>1.000654</td>\n",
       "      <td>0.074048</td>\n",
       "      <td>0.998834</td>\n",
       "      <td>2.281169</td>\n",
       "      <td>4.648857</td>\n",
       "    </tr>\n",
       "    <tr>\n",
       "      <th>25%</th>\n",
       "      <td>1.710327e+18</td>\n",
       "      <td>1.001023</td>\n",
       "      <td>0.538736</td>\n",
       "      <td>1.005519</td>\n",
       "      <td>2.382315</td>\n",
       "      <td>4.963852</td>\n",
       "    </tr>\n",
       "    <tr>\n",
       "      <th>50%</th>\n",
       "      <td>1.710328e+18</td>\n",
       "      <td>1.001393</td>\n",
       "      <td>0.739345</td>\n",
       "      <td>1.008041</td>\n",
       "      <td>2.410214</td>\n",
       "      <td>5.267944</td>\n",
       "    </tr>\n",
       "    <tr>\n",
       "      <th>75%</th>\n",
       "      <td>1.710329e+18</td>\n",
       "      <td>1.001671</td>\n",
       "      <td>0.926803</td>\n",
       "      <td>1.015411</td>\n",
       "      <td>2.571351</td>\n",
       "      <td>5.450613</td>\n",
       "    </tr>\n",
       "    <tr>\n",
       "      <th>max</th>\n",
       "      <td>1.710330e+18</td>\n",
       "      <td>1.003505</td>\n",
       "      <td>1.566247</td>\n",
       "      <td>1.680390</td>\n",
       "      <td>7.750509</td>\n",
       "      <td>10.448476</td>\n",
       "    </tr>\n",
       "  </tbody>\n",
       "</table>\n",
       "</div>"
      ],
      "text/plain": [
       "         start nano  find delay       find  first block   transfer      total\n",
       "count  9.900000e+01   99.000000  99.000000    99.000000  99.000000  99.000000\n",
       "mean   1.710328e+18    1.001379   0.745072     1.036653   2.547233   5.333450\n",
       "std    1.465637e+12    0.000465   0.279354     0.129906   0.576125   0.657165\n",
       "min    1.710325e+18    1.000654   0.074048     0.998834   2.281169   4.648857\n",
       "25%    1.710327e+18    1.001023   0.538736     1.005519   2.382315   4.963852\n",
       "50%    1.710328e+18    1.001393   0.739345     1.008041   2.410214   5.267944\n",
       "75%    1.710329e+18    1.001671   0.926803     1.015411   2.571351   5.450613\n",
       "max    1.710330e+18    1.003505   1.566247     1.680390   7.750509  10.448476"
      ]
     },
     "execution_count": 7,
     "metadata": {},
     "output_type": "execute_result"
    }
   ],
   "source": [
    "report_data_sae.describe()"
   ]
  },
  {
   "cell_type": "code",
   "execution_count": 8,
   "metadata": {},
   "outputs": [
    {
     "data": {
      "text/html": [
       "<div>\n",
       "<style scoped>\n",
       "    .dataframe tbody tr th:only-of-type {\n",
       "        vertical-align: middle;\n",
       "    }\n",
       "\n",
       "    .dataframe tbody tr th {\n",
       "        vertical-align: top;\n",
       "    }\n",
       "\n",
       "    .dataframe thead th {\n",
       "        text-align: right;\n",
       "    }\n",
       "</style>\n",
       "<table border=\"1\" class=\"dataframe\">\n",
       "  <thead>\n",
       "    <tr style=\"text-align: right;\">\n",
       "      <th></th>\n",
       "      <th>start nano</th>\n",
       "      <th>find delay</th>\n",
       "      <th>find</th>\n",
       "      <th>first block</th>\n",
       "      <th>transfer</th>\n",
       "      <th>total</th>\n",
       "    </tr>\n",
       "  </thead>\n",
       "  <tbody>\n",
       "    <tr>\n",
       "      <th>count</th>\n",
       "      <td>9.900000e+01</td>\n",
       "      <td>99.000000</td>\n",
       "      <td>99.000000</td>\n",
       "      <td>99.000000</td>\n",
       "      <td>99.000000</td>\n",
       "      <td>99.000000</td>\n",
       "    </tr>\n",
       "    <tr>\n",
       "      <th>mean</th>\n",
       "      <td>1.710322e+18</td>\n",
       "      <td>1.001361</td>\n",
       "      <td>0.648226</td>\n",
       "      <td>0.045812</td>\n",
       "      <td>0.293955</td>\n",
       "      <td>1.995168</td>\n",
       "    </tr>\n",
       "    <tr>\n",
       "      <th>std</th>\n",
       "      <td>9.556082e+11</td>\n",
       "      <td>0.000620</td>\n",
       "      <td>0.335588</td>\n",
       "      <td>0.045388</td>\n",
       "      <td>0.142581</td>\n",
       "      <td>0.373102</td>\n",
       "    </tr>\n",
       "    <tr>\n",
       "      <th>min</th>\n",
       "      <td>1.710321e+18</td>\n",
       "      <td>1.000485</td>\n",
       "      <td>0.046518</td>\n",
       "      <td>-0.009859</td>\n",
       "      <td>0.119288</td>\n",
       "      <td>1.286711</td>\n",
       "    </tr>\n",
       "    <tr>\n",
       "      <th>25%</th>\n",
       "      <td>1.710322e+18</td>\n",
       "      <td>1.000962</td>\n",
       "      <td>0.399076</td>\n",
       "      <td>0.029262</td>\n",
       "      <td>0.177210</td>\n",
       "      <td>1.741007</td>\n",
       "    </tr>\n",
       "    <tr>\n",
       "      <th>50%</th>\n",
       "      <td>1.710322e+18</td>\n",
       "      <td>1.001237</td>\n",
       "      <td>0.609942</td>\n",
       "      <td>0.037970</td>\n",
       "      <td>0.263963</td>\n",
       "      <td>2.003612</td>\n",
       "    </tr>\n",
       "    <tr>\n",
       "      <th>75%</th>\n",
       "      <td>1.710323e+18</td>\n",
       "      <td>1.001571</td>\n",
       "      <td>0.847964</td>\n",
       "      <td>0.046677</td>\n",
       "      <td>0.378408</td>\n",
       "      <td>2.253714</td>\n",
       "    </tr>\n",
       "    <tr>\n",
       "      <th>max</th>\n",
       "      <td>1.710324e+18</td>\n",
       "      <td>1.004853</td>\n",
       "      <td>1.491972</td>\n",
       "      <td>0.308877</td>\n",
       "      <td>0.918962</td>\n",
       "      <td>2.879407</td>\n",
       "    </tr>\n",
       "  </tbody>\n",
       "</table>\n",
       "</div>"
      ],
      "text/plain": [
       "         start nano  find delay       find  first block   transfer      total\n",
       "count  9.900000e+01   99.000000  99.000000    99.000000  99.000000  99.000000\n",
       "mean   1.710322e+18    1.001361   0.648226     0.045812   0.293955   1.995168\n",
       "std    9.556082e+11    0.000620   0.335588     0.045388   0.142581   0.373102\n",
       "min    1.710321e+18    1.000485   0.046518    -0.009859   0.119288   1.286711\n",
       "25%    1.710322e+18    1.000962   0.399076     0.029262   0.177210   1.741007\n",
       "50%    1.710322e+18    1.001237   0.609942     0.037970   0.263963   2.003612\n",
       "75%    1.710323e+18    1.001571   0.847964     0.046677   0.378408   2.253714\n",
       "max    1.710324e+18    1.004853   1.491972     0.308877   0.918962   2.879407"
      ]
     },
     "execution_count": 8,
     "metadata": {},
     "output_type": "execute_result"
    }
   ],
   "source": [
    "report_data_apse.describe()"
   ]
  },
  {
   "cell_type": "code",
   "execution_count": 9,
   "metadata": {},
   "outputs": [
    {
     "data": {
      "text/html": [
       "<div>\n",
       "<style scoped>\n",
       "    .dataframe tbody tr th:only-of-type {\n",
       "        vertical-align: middle;\n",
       "    }\n",
       "\n",
       "    .dataframe tbody tr th {\n",
       "        vertical-align: top;\n",
       "    }\n",
       "\n",
       "    .dataframe thead th {\n",
       "        text-align: right;\n",
       "    }\n",
       "</style>\n",
       "<table border=\"1\" class=\"dataframe\">\n",
       "  <thead>\n",
       "    <tr style=\"text-align: right;\">\n",
       "      <th></th>\n",
       "      <th>start nano</th>\n",
       "      <th>find delay</th>\n",
       "      <th>find</th>\n",
       "      <th>first block</th>\n",
       "      <th>transfer</th>\n",
       "      <th>total</th>\n",
       "    </tr>\n",
       "  </thead>\n",
       "  <tbody>\n",
       "    <tr>\n",
       "      <th>count</th>\n",
       "      <td>9.900000e+01</td>\n",
       "      <td>99.000000</td>\n",
       "      <td>99.000000</td>\n",
       "      <td>99.000000</td>\n",
       "      <td>99.000000</td>\n",
       "      <td>99.000000</td>\n",
       "    </tr>\n",
       "    <tr>\n",
       "      <th>mean</th>\n",
       "      <td>1.710390e+18</td>\n",
       "      <td>1.001352</td>\n",
       "      <td>0.711032</td>\n",
       "      <td>0.686890</td>\n",
       "      <td>1.629380</td>\n",
       "      <td>4.032299</td>\n",
       "    </tr>\n",
       "    <tr>\n",
       "      <th>std</th>\n",
       "      <td>1.370242e+12</td>\n",
       "      <td>0.000735</td>\n",
       "      <td>0.331039</td>\n",
       "      <td>0.136995</td>\n",
       "      <td>0.197124</td>\n",
       "      <td>0.452423</td>\n",
       "    </tr>\n",
       "    <tr>\n",
       "      <th>min</th>\n",
       "      <td>1.710388e+18</td>\n",
       "      <td>1.000587</td>\n",
       "      <td>0.053474</td>\n",
       "      <td>-0.100638</td>\n",
       "      <td>1.273531</td>\n",
       "      <td>2.954684</td>\n",
       "    </tr>\n",
       "    <tr>\n",
       "      <th>25%</th>\n",
       "      <td>1.710389e+18</td>\n",
       "      <td>1.000972</td>\n",
       "      <td>0.474579</td>\n",
       "      <td>0.656785</td>\n",
       "      <td>1.531536</td>\n",
       "      <td>3.773298</td>\n",
       "    </tr>\n",
       "    <tr>\n",
       "      <th>50%</th>\n",
       "      <td>1.710390e+18</td>\n",
       "      <td>1.001262</td>\n",
       "      <td>0.712127</td>\n",
       "      <td>0.660264</td>\n",
       "      <td>1.562836</td>\n",
       "      <td>3.972585</td>\n",
       "    </tr>\n",
       "    <tr>\n",
       "      <th>75%</th>\n",
       "      <td>1.710391e+18</td>\n",
       "      <td>1.001596</td>\n",
       "      <td>0.923727</td>\n",
       "      <td>0.667743</td>\n",
       "      <td>1.606633</td>\n",
       "      <td>4.298840</td>\n",
       "    </tr>\n",
       "    <tr>\n",
       "      <th>max</th>\n",
       "      <td>1.710393e+18</td>\n",
       "      <td>1.007124</td>\n",
       "      <td>1.638689</td>\n",
       "      <td>1.100440</td>\n",
       "      <td>2.394943</td>\n",
       "      <td>5.510304</td>\n",
       "    </tr>\n",
       "  </tbody>\n",
       "</table>\n",
       "</div>"
      ],
      "text/plain": [
       "         start nano  find delay       find  first block   transfer      total\n",
       "count  9.900000e+01   99.000000  99.000000    99.000000  99.000000  99.000000\n",
       "mean   1.710390e+18    1.001352   0.711032     0.686890   1.629380   4.032299\n",
       "std    1.370242e+12    0.000735   0.331039     0.136995   0.197124   0.452423\n",
       "min    1.710388e+18    1.000587   0.053474    -0.100638   1.273531   2.954684\n",
       "25%    1.710389e+18    1.000972   0.474579     0.656785   1.531536   3.773298\n",
       "50%    1.710390e+18    1.001262   0.712127     0.660264   1.562836   3.972585\n",
       "75%    1.710391e+18    1.001596   0.923727     0.667743   1.606633   4.298840\n",
       "max    1.710393e+18    1.007124   1.638689     1.100440   2.394943   5.510304"
      ]
     },
     "execution_count": 9,
     "metadata": {},
     "output_type": "execute_result"
    }
   ],
   "source": [
    "report_data_afs.describe()"
   ]
  },
  {
   "cell_type": "code",
   "execution_count": 10,
   "metadata": {},
   "outputs": [
    {
     "data": {
      "text/plain": [
       "<Axes: ylabel='Proportion'>"
      ]
     },
     "execution_count": 10,
     "metadata": {},
     "output_type": "execute_result"
    },
    {
     "data": {
      "image/png": "[encoded data removed]",
      "text/plain": [
       "<Figure size 640x480 with 1 Axes>"
      ]
     },
     "metadata": {},
     "output_type": "display_data"
    }
   ],
   "source": [
    "sns.ecdfplot(data={\n",
    "    'apse': report_data_apse['find'], \n",
    "    'apse2': report_data_apse2['find'], \n",
    "    'sae': report_data_sae['find'],\n",
    "    'afs': report_data_afs['find'],\n",
    "})"
   ]
  },
  {
   "cell_type": "code",
   "execution_count": 11,
   "metadata": {},
   "outputs": [
    {
     "data": {
      "text/plain": [
       "<Axes: >"
      ]
     },
     "execution_count": 11,
     "metadata": {},
     "output_type": "execute_result"
    },
    {
     "data": {
      "image/png": "[encoded data removed]",
      "text/plain": [
       "<Figure size 640x480 with 1 Axes>"
      ]
     },
     "metadata": {},
     "output_type": "display_data"
    }
   ],
   "source": [
    "sns.boxplot(data={\n",
    "    'apse': report_data_apse['find'], \n",
    "    'apse2': report_data_apse2['find'], \n",
    "    'sae': report_data_sae['find'],\n",
    "    'afs': report_data_afs['find'],\n",
    "})"
   ]
  },
  {
   "cell_type": "code",
   "execution_count": 31,
   "metadata": {},
   "outputs": [
    {
     "data": {
      "text/plain": [
       "<Axes: ylabel='Proportion'>"
      ]
     },
     "execution_count": 31,
     "metadata": {},
     "output_type": "execute_result"
    },
    {
     "data": {
      "image/png": "[encoded data removed]",
      "text/plain": [
       "<Figure size 640x480 with 1 Axes>"
      ]
     },
     "metadata": {},
     "output_type": "display_data"
    }
   ],
   "source": [
    "sns.ecdfplot(data={\n",
    "    'apse': report_data_apse['first block'], \n",
    "    'apse2': report_data_apse2['first block'], \n",
    "    'sae': report_data_sae['first block'],\n",
    "    'afs': report_data_afs['first block'],\n",
    "})"
   ]
  },
  {
   "cell_type": "code",
   "execution_count": 32,
   "metadata": {},
   "outputs": [
    {
     "data": {
      "text/plain": [
       "<Axes: ylabel='Proportion'>"
      ]
     },
     "execution_count": 32,
     "metadata": {},
     "output_type": "execute_result"
    },
    {
     "data": {
      "image/png": "[encoded data removed]",
      "text/plain": [
       "<Figure size 640x480 with 1 Axes>"
      ]
     },
     "metadata": {},
     "output_type": "display_data"
    }
   ],
   "source": [
    "sns.ecdfplot(data={\n",
    "    'apse': report_data_apse['transfer'], \n",
    "    'apse2': report_data_apse2['transfer'], \n",
    "    'sae': report_data_sae['transfer'],\n",
    "    'afs': report_data_afs['transfer'],\n",
    "})"
   ]
  },
  {
   "cell_type": "code",
   "execution_count": 33,
   "metadata": {},
   "outputs": [
    {
     "data": {
      "text/plain": [
       "<Axes: xlabel='start nano', ylabel='find'>"
      ]
     },
     "execution_count": 33,
     "metadata": {},
     "output_type": "execute_result"
    },
    {
     "data": {
      "image/png": "[encoded data removed]",
      "text/plain": [
       "<Figure size 640x480 with 1 Axes>"
      ]
     },
     "metadata": {},
     "output_type": "display_data"
    }
   ],
   "source": [
    "sns.lineplot(data=report_data_sae, x='start nano', y='find', marker='o')"
   ]
  },
  {
   "cell_type": "markdown",
   "metadata": {},
   "source": [
    "*Backup experiment cells*"
   ]
  },
  {
   "cell_type": "code",
   "execution_count": 16,
   "metadata": {},
   "outputs": [],
   "source": [
    "data = pd.read_json('traces/2024-03-14T12:13:53.733689623Z_other.json', orient='record')"
   ]
  },
  {
   "cell_type": "code",
   "execution_count": null,
   "metadata": {},
   "outputs": [],
   "source": [
    "span = data[data['name'] == 'CoreAPI.UnixfsAPI.Get']\n",
    "cid = span_attr(span.squeeze(), 'path').split('/')[-1]\n",
    "cmd_span = data[data['name'] == 'corehttp.cmdsHandler']\n",
    "start_nano = cmd_span['startTimeUnixNano'].values[0]\n",
    "end_nano = cmd_span['endTimeUnixNano'].values[0]\n",
    "(end_nano - start_nano) / 10**9"
   ]
  },
  {
   "cell_type": "code",
   "execution_count": null,
   "metadata": {},
   "outputs": [],
   "source": [
    "cid"
   ]
  },
  {
   "cell_type": "code",
   "execution_count": null,
   "metadata": {},
   "outputs": [],
   "source": [
    "other_data = pd.read_json('traces/2024-03-13T08:17:24.401727892Z_other.json', orient='record')"
   ]
  },
  {
   "cell_type": "code",
   "execution_count": null,
   "metadata": {},
   "outputs": [],
   "source": [
    "def find_key(span):\n",
    "    return span.at['name'] == 'Dual.FindProvidersAsync' and span_attr(span, 'key') == cid\n",
    "\n",
    "find_span = other_data[other_data.apply(find_key, axis=1)]"
   ]
  },
  {
   "cell_type": "code",
   "execution_count": null,
   "metadata": {},
   "outputs": [],
   "source": [
    "find_start_nano = int(span_event(find_span.squeeze(), 'started streaming').at['timeUnixNano'])\n",
    "(find_start_nano - start_nano) / 10**9"
   ]
  },
  {
   "cell_type": "code",
   "execution_count": null,
   "metadata": {},
   "outputs": [],
   "source": [
    "find_end_nano = int(span_event(find_span.squeeze(), 'found provider').at['timeUnixNano'])\n",
    "(find_end_nano - start_nano) / 10**9"
   ]
  },
  {
   "cell_type": "code",
   "execution_count": null,
   "metadata": {},
   "outputs": [],
   "source": [
    "span_attr(find_span.squeeze(), 'key')"
   ]
  },
  {
   "cell_type": "code",
   "execution_count": null,
   "metadata": {},
   "outputs": [],
   "source": [
    "provider_id = span_attr(span_event(find_span.squeeze(), 'found provider'), 'id')\n",
    "provider_id"
   ]
  },
  {
   "cell_type": "code",
   "execution_count": null,
   "metadata": {},
   "outputs": [],
   "source": [
    "def dial_provider(span):\n",
    "    # return span.at['name'] == 'KademliaDHT.IpfsDHT.DialPeer' and span_attr(span, 'PeerId') == provider_id\n",
    "    return span.at['name'] == 'KademliaDHT.IpfsDHT.DialPeer'\n",
    "for attrs in other_data[other_data.apply(dial_provider, axis=1)]['attributes']:\n",
    "    print(attrs)"
   ]
  },
  {
   "cell_type": "code",
   "execution_count": null,
   "metadata": {},
   "outputs": [],
   "source": [
    "other_data['name'].value_counts()"
   ]
  },
  {
   "cell_type": "code",
   "execution_count": null,
   "metadata": {},
   "outputs": [],
   "source": [
    "transfer_start_nano = data[data['name'] == 'Blockservice.Session.GetBlocks']['startTimeUnixNano'].values[0]\n",
    "(end_nano - transfer_start_nano) / 10**9"
   ]
  },
  {
   "cell_type": "code",
   "execution_count": null,
   "metadata": {},
   "outputs": [],
   "source": [
    "data[data['name'] == 'Bitswap.NotifyNewBlocks']['startTimeUnixNano'].min()"
   ]
  }
 ],
 "metadata": {
  "kernelspec": {
   "display_name": "Python 3",
   "language": "python",
   "name": "python3"
  },
  "language_info": {
   "codemirror_mode": {
    "name": "ipython",
    "version": 3
   },
   "file_extension": ".py",
   "mimetype": "text/x-python",
   "name": "python",
   "nbconvert_exporter": "python",
   "pygments_lexer": "ipython3",
   "version": "3.10.12"
  }
 },
 "nbformat": 4,
 "nbformat_minor": 2
}
