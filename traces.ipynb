{
 "cells": [
  {
   "cell_type": "code",
   "execution_count": 197,
   "metadata": {},
   "outputs": [],
   "source": [
    "import pandas as pd\n",
    "from glob import glob"
   ]
  },
  {
   "cell_type": "code",
   "execution_count": 198,
   "metadata": {},
   "outputs": [],
   "source": [
    "data = pd.read_json('traces/2024-03-13T08:17:24.401727892Z.json', orient='record')"
   ]
  },
  {
   "cell_type": "code",
   "execution_count": 199,
   "metadata": {},
   "outputs": [],
   "source": [
    "def span_attr(span, key):\n",
    "    data = pd.DataFrame(span.at['attributes'])\n",
    "    attr = data[data['key'] == key]\n",
    "    if not attr.empty:\n",
    "        return attr['value'].values[0]['stringValue']"
   ]
  },
  {
   "cell_type": "code",
   "execution_count": 200,
   "metadata": {},
   "outputs": [],
   "source": [
    "def span_event(span, name):\n",
    "    data = pd.DataFrame(span.at['events'])\n",
    "    event = data[data['name'] == name]\n",
    "    if not event.empty:\n",
    "        return event.squeeze()"
   ]
  },
  {
   "cell_type": "code",
   "execution_count": 243,
   "metadata": {},
   "outputs": [
    {
     "data": {
      "text/plain": [
       "1.722143488"
      ]
     },
     "execution_count": 243,
     "metadata": {},
     "output_type": "execute_result"
    }
   ],
   "source": [
    "span = data[data['name'] == 'CoreAPI.UnixfsAPI.Get']\n",
    "cid = span_attr(span.squeeze(), 'path').split('/')[-1]\n",
    "cmd_span = data[data['name'] == 'corehttp.cmdsHandler']\n",
    "start_nano = cmd_span['startTimeUnixNano'].values[0]\n",
    "end_nano = cmd_span['endTimeUnixNano'].values[0]\n",
    "(end_nano - start_nano) / 10**9"
   ]
  },
  {
   "cell_type": "code",
   "execution_count": 202,
   "metadata": {},
   "outputs": [
    {
     "data": {
      "text/plain": [
       "'QmQyzGoKyPfixH9shJnYTW1NNd2cV9NWyHohDkbhjSefKC'"
      ]
     },
     "execution_count": 202,
     "metadata": {},
     "output_type": "execute_result"
    }
   ],
   "source": [
    "cid"
   ]
  },
  {
   "cell_type": "code",
   "execution_count": 203,
   "metadata": {},
   "outputs": [],
   "source": [
    "other_data = pd.read_json('traces/2024-03-13T08:17:24.401727892Z_other.json', orient='record')"
   ]
  },
  {
   "cell_type": "code",
   "execution_count": 204,
   "metadata": {},
   "outputs": [],
   "source": [
    "def find_key(span):\n",
    "    return span.at['name'] == 'Dual.FindProvidersAsync' and span_attr(span, 'key') == cid\n",
    "\n",
    "find_span = other_data[other_data.apply(find_key, axis=1)]"
   ]
  },
  {
   "cell_type": "code",
   "execution_count": 205,
   "metadata": {},
   "outputs": [
    {
     "data": {
      "text/plain": [
       "1.00123273"
      ]
     },
     "execution_count": 205,
     "metadata": {},
     "output_type": "execute_result"
    }
   ],
   "source": [
    "find_start_nano = int(span_event(find_span.squeeze(), 'started streaming').at['timeUnixNano'])\n",
    "(find_start_nano - start_nano) / 10**9"
   ]
  },
  {
   "cell_type": "code",
   "execution_count": 206,
   "metadata": {},
   "outputs": [
    {
     "data": {
      "text/plain": [
       "1.529068371"
      ]
     },
     "execution_count": 206,
     "metadata": {},
     "output_type": "execute_result"
    }
   ],
   "source": [
    "find_end_nano = int(span_event(find_span.squeeze(), 'found provider').at['timeUnixNano'])\n",
    "(find_end_nano - start_nano) / 10**9"
   ]
  },
  {
   "cell_type": "code",
   "execution_count": 216,
   "metadata": {},
   "outputs": [
    {
     "data": {
      "text/plain": [
       "'QmQyzGoKyPfixH9shJnYTW1NNd2cV9NWyHohDkbhjSefKC'"
      ]
     },
     "execution_count": 216,
     "metadata": {},
     "output_type": "execute_result"
    }
   ],
   "source": [
    "span_attr(find_span.squeeze(), 'key')"
   ]
  },
  {
   "cell_type": "code",
   "execution_count": 236,
   "metadata": {},
   "outputs": [
    {
     "data": {
      "text/plain": [
       "'12D3KooWD7hYatcGYB1nb3AeMN1JFTkVwrePHxDHJEfVNnWVXLSC'"
      ]
     },
     "execution_count": 236,
     "metadata": {},
     "output_type": "execute_result"
    }
   ],
   "source": [
    "provider_id = span_attr(span_event(find_span.squeeze(), 'found provider'), 'id')\n",
    "provider_id"
   ]
  },
  {
   "cell_type": "code",
   "execution_count": 235,
   "metadata": {},
   "outputs": [
    {
     "name": "stdout",
     "output_type": "stream",
     "text": [
      "[{'key': 'PeerID', 'value': {'stringValue': '12D3KooWB464XBYQW8LnzzywwGY32oVyYTBysmvfGzC6anmiVmqg'}}, {'key': 'internal.span.format', 'value': {'stringValue': 'otlp'}}]\n",
      "[{'key': 'PeerID', 'value': {'stringValue': '12D3KooWBB26nVZkX7GqAfcRYpMAv7ABZDzuMtWfCHbXYoAHjijG'}}, {'key': 'internal.span.format', 'value': {'stringValue': 'otlp'}}]\n",
      "[{'key': 'PeerID', 'value': {'stringValue': '12D3KooWHtyQP4ysH5NJ1Nk4oMGaxBvPzTnFrZLVic3j9tMbHtWk'}}, {'key': 'internal.span.format', 'value': {'stringValue': 'otlp'}}]\n",
      "[{'key': 'PeerID', 'value': {'stringValue': '12D3KooWSBhhMWajZcaxPNjSLLREgoRVhtLKZqCG53YqtbRjwwKc'}}, {'key': 'internal.span.format', 'value': {'stringValue': 'otlp'}}]\n",
      "[{'key': 'PeerID', 'value': {'stringValue': '12D3KooWErjJN9TZvCuWRhfVm2G6bcoBgo3WeP3VJ4DMxbZaFGy6'}}, {'key': 'internal.span.format', 'value': {'stringValue': 'otlp'}}]\n",
      "[{'key': 'PeerID', 'value': {'stringValue': '12D3KooWLWTCeij2EvpxuVXzDsqaNWod6jUhe1egwpNXdDywKF52'}}, {'key': 'internal.span.format', 'value': {'stringValue': 'otlp'}}]\n",
      "[{'key': 'PeerID', 'value': {'stringValue': '12D3KooWNiiPT2aNya1yGgRFTAfMJheNqVxxNmqMRK1T2YZVvkit'}}, {'key': 'internal.span.format', 'value': {'stringValue': 'otlp'}}]\n",
      "[{'key': 'PeerID', 'value': {'stringValue': '12D3KooWBEfV4HU2R8BJyJyWSPyuHD4JAyUWS5uD3XD6GykVpdgr'}}, {'key': 'internal.span.format', 'value': {'stringValue': 'otlp'}}]\n",
      "[{'key': 'PeerID', 'value': {'stringValue': '12D3KooWB2trPf6EW21w8j3X6jGMAB32YAfWgKrPAHF1i7wN3Tpv'}}, {'key': 'internal.span.format', 'value': {'stringValue': 'otlp'}}]\n",
      "[{'key': 'PeerID', 'value': {'stringValue': '12D3KooWCAm18Q6UFLeLDM6THuag7KYRTanjj1EUnYWhsSXVsa7D'}}, {'key': 'internal.span.format', 'value': {'stringValue': 'otlp'}}]\n",
      "[{'key': 'PeerID', 'value': {'stringValue': '12D3KooWGuoHNx5TWY2Lu3FbKdRyD85itGmUF7U86ZYGaGV29h3S'}}, {'key': 'internal.span.format', 'value': {'stringValue': 'otlp'}}]\n",
      "[{'key': 'PeerID', 'value': {'stringValue': '12D3KooWMqVNbVGQYsQYLnGgtAnfhv2TEKNcJ7EXj3fEfVPX4e3N'}}, {'key': 'internal.span.format', 'value': {'stringValue': 'otlp'}}]\n",
      "[{'key': 'PeerID', 'value': {'stringValue': '12D3KooWQpoUpUnRtZv1iGmfue3731frN5jRCDzqYvoHXoWfGCfu'}}, {'key': 'internal.span.format', 'value': {'stringValue': 'otlp'}}]\n"
     ]
    }
   ],
   "source": [
    "def dial_provider(span):\n",
    "    # return span.at['name'] == 'KademliaDHT.IpfsDHT.DialPeer' and span_attr(span, 'PeerId') == provider_id\n",
    "    return span.at['name'] == 'KademliaDHT.IpfsDHT.DialPeer'\n",
    "for attrs in other_data[other_data.apply(dial_provider, axis=1)]['attributes']:\n",
    "    print(attrs)"
   ]
  },
  {
   "cell_type": "code",
   "execution_count": 237,
   "metadata": {},
   "outputs": [
    {
     "data": {
      "text/plain": [
       "name\n",
       "KademliaDHT.IpfsDHT.SpawnQuery                   13\n",
       "KademliaDHT.IpfsDHT.DialPeer                     13\n",
       "KademliaDHT.IpfsDHT.QueryPeer                    13\n",
       "KademliaDHT.ProtocolMessenger.GetProviders        6\n",
       "KademliaDHT.ProviderManager.GetProviders          3\n",
       "Compose.worker                                    3\n",
       "Blockservice.blockService.AddBlock                2\n",
       "KademliaDHT.IpfsDHT.RunQuery                      2\n",
       "IpfsDHT.FindProvidersAsync                        2\n",
       "KademliaDHT.IpfsDHT.RunLookupWithFollowup         2\n",
       "KademliaDHT.IpfsDHT.FindProvidersAsyncRoutine     2\n",
       "ComposableParallel.FindProvidersAsync             2\n",
       "KademliaDHT.IpfsDHT.Query.Terminate               1\n",
       "KademliaDHT.IpfsDHT.Query.Run                     1\n",
       "KademliaDHT.Dual.worker                           1\n",
       "Dual.FindProvidersAsync                           1\n",
       "Name: count, dtype: int64"
      ]
     },
     "execution_count": 237,
     "metadata": {},
     "output_type": "execute_result"
    }
   ],
   "source": [
    "other_data['name'].value_counts()"
   ]
  },
  {
   "cell_type": "code",
   "execution_count": 244,
   "metadata": {},
   "outputs": [
    {
     "data": {
      "text/plain": [
       "0.150677248"
      ]
     },
     "execution_count": 244,
     "metadata": {},
     "output_type": "execute_result"
    }
   ],
   "source": [
    "transfer_start_nano = data[data['name'] == 'Blockservice.Session.GetBlocks']['startTimeUnixNano'].values[0]\n",
    "(end_nano - transfer_start_nano) / 10**9"
   ]
  },
  {
   "cell_type": "code",
   "execution_count": 248,
   "metadata": {},
   "outputs": [
    {
     "data": {
      "text/plain": [
       "1710317845969791744"
      ]
     },
     "execution_count": 248,
     "metadata": {},
     "output_type": "execute_result"
    }
   ],
   "source": [
    "data[data['name'] == 'Bitswap.NotifyNewBlocks']['startTimeUnixNano'].min()"
   ]
  },
  {
   "cell_type": "code",
   "execution_count": 261,
   "metadata": {},
   "outputs": [],
   "source": [
    "def report_trace(name):\n",
    "    data = pd.read_json(f'traces/{name}.json', orient='record')\n",
    "    span = data[data['name'] == 'CoreAPI.UnixfsAPI.Get']\n",
    "    cid = span_attr(span.squeeze(), 'path').split('/')[-1]\n",
    "    # print('cid', cid)\n",
    "    cmd_span = data[data['name'] == 'corehttp.cmdsHandler']\n",
    "    start_nano = cmd_span['startTimeUnixNano'].values[0]\n",
    "    end_nano = cmd_span['endTimeUnixNano'].values[0]\n",
    "    transfer_start_nano = data[data['name'] == 'Blockservice.Session.GetBlocks']['startTimeUnixNano'].values[0]\n",
    "    first_block_notify = data[data['name'] == 'Bitswap.NotifyNewBlocks']['startTimeUnixNano'].min()\n",
    "\n",
    "    other_data = pd.read_json(f'traces/{name}_other.json', orient='record')\n",
    "    def find_key(span):\n",
    "        return span.at['name'] == 'Dual.FindProvidersAsync' and span_attr(span, 'key') == cid\n",
    "    find_span = other_data[other_data.apply(find_key, axis=1)]\n",
    "    # find_start_nano = int(span_event(find_span.squeeze(), 'started streaming').at['timeUnixNano'])\n",
    "    find_start_nano = find_span['startTimeUnixNano'].values[0]\n",
    "    \n",
    "    # print('find delay', (find_start_nano - start_nano) / 10**9)\n",
    "    find_delay = (find_start_nano - start_nano) / 10**9\n",
    "    find_end_nano = int(span_event(find_span.squeeze(), 'found provider').at['timeUnixNano'])\n",
    "    # print('find', (find_end_nano - find_start_nano) / 10**9)\n",
    "    find = (find_end_nano - find_start_nano) / 10**9\n",
    "    # print('from find to first block arrive', (find_end_nano - first_block_notify) / 10**9)\n",
    "    first_block = (find_end_nano - first_block_notify) / 10**9\n",
    "    # print('transfer', (end_nano - transfer_start_nano) / 10**9)\n",
    "    transfer = (end_nano - transfer_start_nano) / 10**9\n",
    "    # print('total', (end_nano - start_nano) / 10**9)\n",
    "    total = (end_nano - start_nano) / 10**9\n",
    "    return pd.Series({'cid': cid, 'find delay': find_delay, 'find': find, 'first block': first_block, 'transfer': transfer, 'total': total})"
   ]
  },
  {
   "cell_type": "code",
   "execution_count": 262,
   "metadata": {},
   "outputs": [
    {
     "data": {
      "text/html": [
       "<div>\n",
       "<style scoped>\n",
       "    .dataframe tbody tr th:only-of-type {\n",
       "        vertical-align: middle;\n",
       "    }\n",
       "\n",
       "    .dataframe tbody tr th {\n",
       "        vertical-align: top;\n",
       "    }\n",
       "\n",
       "    .dataframe thead th {\n",
       "        text-align: right;\n",
       "    }\n",
       "</style>\n",
       "<table border=\"1\" class=\"dataframe\">\n",
       "  <thead>\n",
       "    <tr style=\"text-align: right;\">\n",
       "      <th></th>\n",
       "      <th>cid</th>\n",
       "      <th>find delay</th>\n",
       "      <th>find</th>\n",
       "      <th>first block</th>\n",
       "      <th>transfer</th>\n",
       "      <th>total</th>\n",
       "    </tr>\n",
       "  </thead>\n",
       "  <tbody>\n",
       "    <tr>\n",
       "      <th>0</th>\n",
       "      <td>QmYfvFQRvyDrTcbVVok8ZPGshHEzHbC9cYyhCDFP3TRvud</td>\n",
       "      <td>1.001638</td>\n",
       "      <td>0.732458</td>\n",
       "      <td>-0.032934</td>\n",
       "      <td>0.216827</td>\n",
       "      <td>1.984372</td>\n",
       "    </tr>\n",
       "    <tr>\n",
       "      <th>1</th>\n",
       "      <td>QmQyzGoKyPfixH9shJnYTW1NNd2cV9NWyHohDkbhjSefKC</td>\n",
       "      <td>1.001294</td>\n",
       "      <td>0.527880</td>\n",
       "      <td>-0.038995</td>\n",
       "      <td>0.150677</td>\n",
       "      <td>1.722143</td>\n",
       "    </tr>\n",
       "    <tr>\n",
       "      <th>2</th>\n",
       "      <td>QmQm44C4QUcRWR68JEwWaubG5KuLpjFpU278AJgexPYHn9</td>\n",
       "      <td>1.001604</td>\n",
       "      <td>0.283456</td>\n",
       "      <td>-0.023157</td>\n",
       "      <td>0.180485</td>\n",
       "      <td>1.490190</td>\n",
       "    </tr>\n",
       "    <tr>\n",
       "      <th>3</th>\n",
       "      <td>QmUeeLBzYqbbeAGmwc5t2jhqRgoq1V5e11oNktXwZmR42w</td>\n",
       "      <td>1.002779</td>\n",
       "      <td>2.668487</td>\n",
       "      <td>-0.020380</td>\n",
       "      <td>0.328057</td>\n",
       "      <td>4.021033</td>\n",
       "    </tr>\n",
       "  </tbody>\n",
       "</table>\n",
       "</div>"
      ],
      "text/plain": [
       "                                              cid  find delay      find  \\\n",
       "0  QmYfvFQRvyDrTcbVVok8ZPGshHEzHbC9cYyhCDFP3TRvud    1.001638  0.732458   \n",
       "1  QmQyzGoKyPfixH9shJnYTW1NNd2cV9NWyHohDkbhjSefKC    1.001294  0.527880   \n",
       "2  QmQm44C4QUcRWR68JEwWaubG5KuLpjFpU278AJgexPYHn9    1.001604  0.283456   \n",
       "3  QmUeeLBzYqbbeAGmwc5t2jhqRgoq1V5e11oNktXwZmR42w    1.002779  2.668487   \n",
       "\n",
       "   first block  transfer     total  \n",
       "0    -0.032934  0.216827  1.984372  \n",
       "1    -0.038995  0.150677  1.722143  \n",
       "2    -0.023157  0.180485  1.490190  \n",
       "3    -0.020380  0.328057  4.021033  "
      ]
     },
     "execution_count": 262,
     "metadata": {},
     "output_type": "execute_result"
    }
   ],
   "source": [
    "report_data = pd.DataFrame([\n",
    "    report_trace(name.split('/')[1].split('_')[0])\n",
    "    for name in glob('traces/*_other.json')\n",
    "])\n",
    "report_data"
   ]
  },
  {
   "cell_type": "code",
   "execution_count": 264,
   "metadata": {},
   "outputs": [
    {
     "data": {
      "text/plain": [
       "find delay     1.001829\n",
       "find           1.053070\n",
       "first block   -0.028867\n",
       "transfer       0.219012\n",
       "total          2.304435\n",
       "dtype: float64"
      ]
     },
     "execution_count": 264,
     "metadata": {},
     "output_type": "execute_result"
    }
   ],
   "source": [
    "report_data.mean(numeric_only=True)"
   ]
  }
 ],
 "metadata": {
  "kernelspec": {
   "display_name": "Python 3",
   "language": "python",
   "name": "python3"
  },
  "language_info": {
   "codemirror_mode": {
    "name": "ipython",
    "version": 3
   },
   "file_extension": ".py",
   "mimetype": "text/x-python",
   "name": "python",
   "nbconvert_exporter": "python",
   "pygments_lexer": "ipython3",
   "version": "3.10.12"
  }
 },
 "nbformat": 4,
 "nbformat_minor": 2
}
