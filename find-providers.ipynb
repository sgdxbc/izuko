{
 "cells": [
  {
   "cell_type": "code",
   "execution_count": 1,
   "metadata": {},
   "outputs": [],
   "source": [
    "import pandas as pd\n",
    "from glob import glob\n",
    "import seaborn as sns\n",
    "sns.set_theme()\n",
    "import matplotlib.pyplot as plt"
   ]
  },
  {
   "cell_type": "code",
   "execution_count": 2,
   "metadata": {},
   "outputs": [
    {
     "data": {
      "text/plain": [
       "'saved/find-providers/baguqeerasords4njcts6vs7qvdjfcvgnume4hqohf65zsfguprqphs3icwea/1711630192148.csv'"
      ]
     },
     "execution_count": 2,
     "metadata": {},
     "output_type": "execute_result"
    }
   ],
   "source": [
    "cid = 'baguqeerasords4njcts6vs7qvdjfcvgnume4hqohf65zsfguprqphs3icwea'\n",
    "csv_file = max(glob(f'saved/find-providers/{cid}/*.csv'))\n",
    "csv_file"
   ]
  },
  {
   "cell_type": "code",
   "execution_count": 3,
   "metadata": {},
   "outputs": [
    {
     "data": {
      "text/html": [
       "<div>\n",
       "<style scoped>\n",
       "    .dataframe tbody tr th:only-of-type {\n",
       "        vertical-align: middle;\n",
       "    }\n",
       "\n",
       "    .dataframe tbody tr th {\n",
       "        vertical-align: top;\n",
       "    }\n",
       "\n",
       "    .dataframe thead th {\n",
       "        text-align: right;\n",
       "    }\n",
       "</style>\n",
       "<table border=\"1\" class=\"dataframe\">\n",
       "  <thead>\n",
       "    <tr style=\"text-align: right;\">\n",
       "      <th></th>\n",
       "      <th>id</th>\n",
       "      <th>region</th>\n",
       "      <th>provider id</th>\n",
       "    </tr>\n",
       "  </thead>\n",
       "  <tbody>\n",
       "    <tr>\n",
       "      <th>0</th>\n",
       "      <td>12D3KooWRpUjFv7CmukwxJjXkGmSXgGiL2TKHfWcsx8xbD...</td>\n",
       "      <td>ap-southeast-1</td>\n",
       "      <td>12D3KooWJQxEDTKKiv368SrYwU5nh6aiJcWeEmP7CsxKux...</td>\n",
       "    </tr>\n",
       "    <tr>\n",
       "      <th>1</th>\n",
       "      <td>12D3KooWRpUjFv7CmukwxJjXkGmSXgGiL2TKHfWcsx8xbD...</td>\n",
       "      <td>ap-southeast-1</td>\n",
       "      <td>12D3KooWSaWhiGiuJkfd3UPMtphDADZ79fW4bMzzeaWGGR...</td>\n",
       "    </tr>\n",
       "    <tr>\n",
       "      <th>2</th>\n",
       "      <td>12D3KooWRpUjFv7CmukwxJjXkGmSXgGiL2TKHfWcsx8xbD...</td>\n",
       "      <td>ap-southeast-1</td>\n",
       "      <td>12D3KooWJw2CwXKUYvRvNgm7pT4bJuUdaqz6c7ie55rUAo...</td>\n",
       "    </tr>\n",
       "    <tr>\n",
       "      <th>3</th>\n",
       "      <td>12D3KooWRpUjFv7CmukwxJjXkGmSXgGiL2TKHfWcsx8xbD...</td>\n",
       "      <td>ap-southeast-1</td>\n",
       "      <td>QmQzqxhK82kAmKvARFZSkUVS6fo9sySaiogAnx5EnZ6ZmC</td>\n",
       "    </tr>\n",
       "    <tr>\n",
       "      <th>4</th>\n",
       "      <td>12D3KooWRpUjFv7CmukwxJjXkGmSXgGiL2TKHfWcsx8xbD...</td>\n",
       "      <td>ap-southeast-1</td>\n",
       "      <td>12D3KooWLirG3i3uZicCBFK4b6oCVwDDc8mZUpuZwGJbLr...</td>\n",
       "    </tr>\n",
       "    <tr>\n",
       "      <th>...</th>\n",
       "      <td>...</td>\n",
       "      <td>...</td>\n",
       "      <td>...</td>\n",
       "    </tr>\n",
       "    <tr>\n",
       "      <th>1995</th>\n",
       "      <td>12D3KooWMpZrHYsdGpJ4SvaGc8QJgmi9UGUKreuNNXt2Jd...</td>\n",
       "      <td>ap-southeast-1</td>\n",
       "      <td>12D3KooWDdJi9ufLbrf3Zfpz8pusWPaQUYxtUTn7LnNtA3...</td>\n",
       "    </tr>\n",
       "    <tr>\n",
       "      <th>1996</th>\n",
       "      <td>12D3KooWMpZrHYsdGpJ4SvaGc8QJgmi9UGUKreuNNXt2Jd...</td>\n",
       "      <td>ap-southeast-1</td>\n",
       "      <td>12D3KooWDdct8UMjSDMbzUoeLwFiLGD9MYSF4qJVMEaDdZ...</td>\n",
       "    </tr>\n",
       "    <tr>\n",
       "      <th>1997</th>\n",
       "      <td>12D3KooWMpZrHYsdGpJ4SvaGc8QJgmi9UGUKreuNNXt2Jd...</td>\n",
       "      <td>ap-southeast-1</td>\n",
       "      <td>12D3KooWDe67fC1DEGfgs2xgHj9m6kfZVGb9yTHANn17SS...</td>\n",
       "    </tr>\n",
       "    <tr>\n",
       "      <th>1998</th>\n",
       "      <td>12D3KooWMpZrHYsdGpJ4SvaGc8QJgmi9UGUKreuNNXt2Jd...</td>\n",
       "      <td>ap-southeast-1</td>\n",
       "      <td>12D3KooWDg4x8RCESkv7RhrrPmpVXP5DLkAx8B5us1tF9q...</td>\n",
       "    </tr>\n",
       "    <tr>\n",
       "      <th>1999</th>\n",
       "      <td>12D3KooWMpZrHYsdGpJ4SvaGc8QJgmi9UGUKreuNNXt2Jd...</td>\n",
       "      <td>ap-southeast-1</td>\n",
       "      <td>12D3KooWDg984PqAXjnmKPHRLND9NLkH9UmLT3WQ7tprZN...</td>\n",
       "    </tr>\n",
       "  </tbody>\n",
       "</table>\n",
       "<p>2000 rows × 3 columns</p>\n",
       "</div>"
      ],
      "text/plain": [
       "                                                     id          region  \\\n",
       "0     12D3KooWRpUjFv7CmukwxJjXkGmSXgGiL2TKHfWcsx8xbD...  ap-southeast-1   \n",
       "1     12D3KooWRpUjFv7CmukwxJjXkGmSXgGiL2TKHfWcsx8xbD...  ap-southeast-1   \n",
       "2     12D3KooWRpUjFv7CmukwxJjXkGmSXgGiL2TKHfWcsx8xbD...  ap-southeast-1   \n",
       "3     12D3KooWRpUjFv7CmukwxJjXkGmSXgGiL2TKHfWcsx8xbD...  ap-southeast-1   \n",
       "4     12D3KooWRpUjFv7CmukwxJjXkGmSXgGiL2TKHfWcsx8xbD...  ap-southeast-1   \n",
       "...                                                 ...             ...   \n",
       "1995  12D3KooWMpZrHYsdGpJ4SvaGc8QJgmi9UGUKreuNNXt2Jd...  ap-southeast-1   \n",
       "1996  12D3KooWMpZrHYsdGpJ4SvaGc8QJgmi9UGUKreuNNXt2Jd...  ap-southeast-1   \n",
       "1997  12D3KooWMpZrHYsdGpJ4SvaGc8QJgmi9UGUKreuNNXt2Jd...  ap-southeast-1   \n",
       "1998  12D3KooWMpZrHYsdGpJ4SvaGc8QJgmi9UGUKreuNNXt2Jd...  ap-southeast-1   \n",
       "1999  12D3KooWMpZrHYsdGpJ4SvaGc8QJgmi9UGUKreuNNXt2Jd...  ap-southeast-1   \n",
       "\n",
       "                                            provider id  \n",
       "0     12D3KooWJQxEDTKKiv368SrYwU5nh6aiJcWeEmP7CsxKux...  \n",
       "1     12D3KooWSaWhiGiuJkfd3UPMtphDADZ79fW4bMzzeaWGGR...  \n",
       "2     12D3KooWJw2CwXKUYvRvNgm7pT4bJuUdaqz6c7ie55rUAo...  \n",
       "3        QmQzqxhK82kAmKvARFZSkUVS6fo9sySaiogAnx5EnZ6ZmC  \n",
       "4     12D3KooWLirG3i3uZicCBFK4b6oCVwDDc8mZUpuZwGJbLr...  \n",
       "...                                                 ...  \n",
       "1995  12D3KooWDdJi9ufLbrf3Zfpz8pusWPaQUYxtUTn7LnNtA3...  \n",
       "1996  12D3KooWDdct8UMjSDMbzUoeLwFiLGD9MYSF4qJVMEaDdZ...  \n",
       "1997  12D3KooWDe67fC1DEGfgs2xgHj9m6kfZVGb9yTHANn17SS...  \n",
       "1998  12D3KooWDg4x8RCESkv7RhrrPmpVXP5DLkAx8B5us1tF9q...  \n",
       "1999  12D3KooWDg984PqAXjnmKPHRLND9NLkH9UmLT3WQ7tprZN...  \n",
       "\n",
       "[2000 rows x 3 columns]"
      ]
     },
     "execution_count": 3,
     "metadata": {},
     "output_type": "execute_result"
    }
   ],
   "source": [
    "data = pd.read_csv(csv_file, names=['id', 'region', 'provider id'])\n",
    "data"
   ]
  },
  {
   "cell_type": "code",
   "execution_count": 4,
   "metadata": {},
   "outputs": [
    {
     "data": {
      "text/plain": [
       "provider id\n",
       "12D3KooWJw2CwXKUYvRvNgm7pT4bJuUdaqz6c7ie55rUAokQokB8    98\n",
       "QmQzqxhK82kAmKvARFZSkUVS6fo9sySaiogAnx5EnZ6ZmC          98\n",
       "12D3KooWLirG3i3uZicCBFK4b6oCVwDDc8mZUpuZwGJbLrTLnC7U    98\n",
       "12D3KooWAEs8Zm3XMaTmk3b1jb9NTJzGE1KYpy4mdPiwiSAo9QJH    98\n",
       "12D3KooWFzZYEChh6Dsy4jHyTopK42oRrk41WVfnpMG5r8eoXa6u    98\n",
       "                                                        ..\n",
       "12D3KooWHHPrCYtR3NCxmP1k7dQyBEWhttf39N334xjA7JBSSqz8     1\n",
       "QmZMxNdpMkewiVZLMRxaNxUeZpDUb34pWjZ1kZvsd16Zic           1\n",
       "12D3KooWQKgiBRU9JZ1NBaEAr7VUNVmjRr5zVqjPSXV4sX9SAE3S     1\n",
       "12D3KooWAmFNfupWwj12RbS8E9Lr9CRsDYRXzADsPV5cEGpmHAnV     1\n",
       "12D3KooWGmH31e6MkXt8oPm6TowF3Rjz4JngH193Jdggu7QdNWbu     1\n",
       "Name: count, Length: 70, dtype: int64"
      ]
     },
     "execution_count": 4,
     "metadata": {},
     "output_type": "execute_result"
    }
   ],
   "source": [
    "data['provider id'].value_counts()"
   ]
  },
  {
   "cell_type": "code",
   "execution_count": 5,
   "metadata": {},
   "outputs": [
    {
     "data": {
      "text/plain": [
       "<Axes: xlabel='provider id', ylabel='count'>"
      ]
     },
     "execution_count": 5,
     "metadata": {},
     "output_type": "execute_result"
    },
    {
     "data": {
      "image/png": "[encoded data removed]",
      "text/plain": [
       "<Figure size 640x480 with 1 Axes>"
      ]
     },
     "metadata": {},
     "output_type": "display_data"
    }
   ],
   "source": [
    "sns.barplot(data['provider id'].value_counts())"
   ]
  }
 ],
 "metadata": {
  "kernelspec": {
   "display_name": "Python 3",
   "language": "python",
   "name": "python3"
  },
  "language_info": {
   "codemirror_mode": {
    "name": "ipython",
    "version": 3
   },
   "file_extension": ".py",
   "mimetype": "text/x-python",
   "name": "python",
   "nbconvert_exporter": "python",
   "pygments_lexer": "ipython3",
   "version": "3.10.12"
  }
 },
 "nbformat": 4,
 "nbformat_minor": 2
}
